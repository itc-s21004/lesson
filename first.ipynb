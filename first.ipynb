{
 "cells": [
  {
   "cell_type": "code",
   "execution_count": null,
   "metadata": {},
   "outputs": [],
   "source": []
  },
  {
   "cell_type": "markdown",
   "metadata": {},
   "source": [
    "#Chapter3"
   ]
  },
  {
   "cell_type": "markdown",
   "metadata": {},
   "source": [
    "memo"
   ]
  },
  {
   "cell_type": "code",
   "execution_count": 2,
   "metadata": {},
   "outputs": [
    {
     "name": "stdout",
     "output_type": "stream",
     "text": [
      "HelloWould!\n",
      "HelloWould!\n",
      "HelloWould!\n",
      "HelloWould!\n",
      "HelloWould!\n",
      "HelloWould!\n",
      "HelloWould!\n",
      "HelloWould!\n",
      "HelloWould!\n",
      "HelloWould!\n",
      "HelloWould!\n",
      "HelloWould!\n",
      "HelloWould!\n",
      "HelloWould!\n",
      "HelloWould!\n",
      "HelloWould!\n",
      "HelloWould!\n",
      "HelloWould!\n",
      "HelloWould!\n",
      "HelloWould!\n",
      "HelloWould!\n",
      "HelloWould!\n",
      "HelloWould!\n",
      "HelloWould!\n",
      "HelloWould!\n",
      "HelloWould!\n",
      "HelloWould!\n",
      "HelloWould!\n",
      "HelloWould!\n",
      "HelloWould!\n",
      "HelloWould!\n",
      "HelloWould!\n",
      "HelloWould!\n",
      "HelloWould!\n",
      "HelloWould!\n",
      "HelloWould!\n",
      "HelloWould!\n",
      "HelloWould!\n",
      "HelloWould!\n",
      "HelloWould!\n",
      "HelloWould!\n",
      "HelloWould!\n",
      "HelloWould!\n",
      "HelloWould!\n",
      "HelloWould!\n",
      "HelloWould!\n",
      "HelloWould!\n",
      "HelloWould!\n",
      "HelloWould!\n",
      "HelloWould!\n",
      "HelloWould!\n",
      "HelloWould!\n",
      "HelloWould!\n",
      "HelloWould!\n",
      "HelloWould!\n",
      "HelloWould!\n",
      "HelloWould!\n",
      "HelloWould!\n",
      "HelloWould!\n",
      "HelloWould!\n",
      "HelloWould!\n",
      "HelloWould!\n",
      "HelloWould!\n",
      "HelloWould!\n",
      "HelloWould!\n",
      "HelloWould!\n",
      "HelloWould!\n",
      "HelloWould!\n",
      "HelloWould!\n",
      "HelloWould!\n",
      "HelloWould!\n",
      "HelloWould!\n",
      "HelloWould!\n",
      "HelloWould!\n",
      "HelloWould!\n",
      "HelloWould!\n",
      "HelloWould!\n",
      "HelloWould!\n",
      "HelloWould!\n",
      "HelloWould!\n",
      "HelloWould!\n",
      "HelloWould!\n",
      "HelloWould!\n",
      "HelloWould!\n",
      "HelloWould!\n",
      "HelloWould!\n",
      "HelloWould!\n",
      "HelloWould!\n",
      "HelloWould!\n",
      "HelloWould!\n",
      "HelloWould!\n",
      "HelloWould!\n",
      "HelloWould!\n",
      "HelloWould!\n",
      "HelloWould!\n",
      "HelloWould!\n",
      "HelloWould!\n",
      "HelloWould!\n",
      "HelloWould!\n",
      "HelloWould!\n"
     ]
    }
   ],
   "source": [
    "for i in range(100):\n",
    "    print(\"HelloWould!\")"
   ]
  },
  {
   "cell_type": "code",
   "execution_count": 3,
   "metadata": {},
   "outputs": [
    {
     "name": "stdout",
     "output_type": "stream",
     "text": [
      "Hello Would!\n"
     ]
    }
   ],
   "source": [
    "print (\"Hello Would!\")"
   ]
  },
  {
   "cell_type": "code",
   "execution_count": 4,
   "metadata": {},
   "outputs": [],
   "source": [
    "#これはコメントです"
   ]
  },
  {
   "cell_type": "code",
   "execution_count": 5,
   "metadata": {},
   "outputs": [
    {
     "name": "stdout",
     "output_type": "stream",
     "text": [
      "Python\n"
     ]
    }
   ],
   "source": [
    "print (\"Python\")"
   ]
  },
  {
   "cell_type": "code",
   "execution_count": 6,
   "metadata": {},
   "outputs": [
    {
     "name": "stdout",
     "output_type": "stream",
     "text": [
      "こんにちは！\n"
     ]
    }
   ],
   "source": [
    "print(\"こんにちは！\")"
   ]
  },
  {
   "cell_type": "code",
   "execution_count": null,
   "metadata": {},
   "outputs": [],
   "source": []
  },
  {
   "cell_type": "code",
   "execution_count": 7,
   "metadata": {},
   "outputs": [],
   "source": [
    "#line1\n",
    "#line2\n",
    "#line3"
   ]
  },
  {
   "cell_type": "code",
   "execution_count": 8,
   "metadata": {},
   "outputs": [
    {
     "ename": "SyntaxError",
     "evalue": "invalid character in identifier (<ipython-input-8-a9e66984d7d7>, line 2)",
     "output_type": "error",
     "traceback": [
      "\u001b[0;36m  File \u001b[0;32m\"<ipython-input-8-a9e66984d7d7>\"\u001b[0;36m, line \u001b[0;32m2\u001b[0m\n\u001b[0;31m    (”””これは、とても、とても、とても、\u001b[0m\n\u001b[0m                        \n^\u001b[0m\n\u001b[0;31mSyntaxError\u001b[0m\u001b[0;31m:\u001b[0m invalid character in identifier\n"
     ]
    }
   ],
   "source": [
    "print\\\n",
    "(”””これは、とても、とても、とても、\n",
    "とても長い複数行コードです”””)"
   ]
  },
  {
   "cell_type": "code",
   "execution_count": 9,
   "metadata": {},
   "outputs": [
    {
     "name": "stdout",
     "output_type": "stream",
     "text": [
      "Hello Would!\n",
      "Hello Would!\n",
      "Hello Would!\n",
      "Hello Would!\n",
      "Hello Would!\n",
      "Hello Would!\n",
      "Hello Would!\n",
      "Hello Would!\n",
      "Hello Would!\n",
      "Hello Would!\n",
      "Hello Would!\n",
      "Hello Would!\n",
      "Hello Would!\n",
      "Hello Would!\n",
      "Hello Would!\n",
      "Hello Would!\n",
      "Hello Would!\n",
      "Hello Would!\n",
      "Hello Would!\n",
      "Hello Would!\n",
      "Hello Would!\n",
      "Hello Would!\n",
      "Hello Would!\n",
      "Hello Would!\n",
      "Hello Would!\n",
      "Hello Would!\n",
      "Hello Would!\n",
      "Hello Would!\n",
      "Hello Would!\n",
      "Hello Would!\n",
      "Hello Would!\n",
      "Hello Would!\n",
      "Hello Would!\n",
      "Hello Would!\n",
      "Hello Would!\n",
      "Hello Would!\n",
      "Hello Would!\n",
      "Hello Would!\n",
      "Hello Would!\n",
      "Hello Would!\n",
      "Hello Would!\n",
      "Hello Would!\n",
      "Hello Would!\n",
      "Hello Would!\n",
      "Hello Would!\n",
      "Hello Would!\n",
      "Hello Would!\n",
      "Hello Would!\n",
      "Hello Would!\n",
      "Hello Would!\n",
      "Hello Would!\n",
      "Hello Would!\n",
      "Hello Would!\n",
      "Hello Would!\n",
      "Hello Would!\n",
      "Hello Would!\n",
      "Hello Would!\n",
      "Hello Would!\n",
      "Hello Would!\n",
      "Hello Would!\n",
      "Hello Would!\n",
      "Hello Would!\n",
      "Hello Would!\n",
      "Hello Would!\n",
      "Hello Would!\n",
      "Hello Would!\n",
      "Hello Would!\n",
      "Hello Would!\n",
      "Hello Would!\n",
      "Hello Would!\n",
      "Hello Would!\n",
      "Hello Would!\n",
      "Hello Would!\n",
      "Hello Would!\n",
      "Hello Would!\n",
      "Hello Would!\n",
      "Hello Would!\n",
      "Hello Would!\n",
      "Hello Would!\n",
      "Hello Would!\n",
      "Hello Would!\n",
      "Hello Would!\n",
      "Hello Would!\n",
      "Hello Would!\n",
      "Hello Would!\n",
      "Hello Would!\n",
      "Hello Would!\n",
      "Hello Would!\n",
      "Hello Would!\n",
      "Hello Would!\n",
      "Hello Would!\n",
      "Hello Would!\n",
      "Hello Would!\n",
      "Hello Would!\n",
      "Hello Would!\n",
      "Hello Would!\n",
      "Hello Would!\n",
      "Hello Would!\n",
      "Hello Would!\n",
      "Hello Would!\n"
     ]
    }
   ],
   "source": [
    "for i in range(100):\n",
    "    print(\"Hello Would!\")"
   ]
  },
  {
   "cell_type": "code",
   "execution_count": 10,
   "metadata": {},
   "outputs": [
    {
     "name": "stdout",
     "output_type": "stream",
     "text": [
      "これは、とても、とても、とても、\n",
      "とても長い複数行コードです。\n"
     ]
    }
   ],
   "source": [
    "print \\\n",
    "(\"\"\"これは、とても、とても、とても、\n",
    "とても長い複数行コードです。\"\"\")"
   ]
  },
  {
   "cell_type": "code",
   "execution_count": 11,
   "metadata": {},
   "outputs": [],
   "source": [
    "b=100"
   ]
  },
  {
   "cell_type": "code",
   "execution_count": 12,
   "metadata": {},
   "outputs": [
    {
     "data": {
      "text/plain": [
       "100"
      ]
     },
     "execution_count": 12,
     "metadata": {},
     "output_type": "execute_result"
    }
   ],
   "source": [
    "b"
   ]
  },
  {
   "cell_type": "code",
   "execution_count": 13,
   "metadata": {},
   "outputs": [
    {
     "ename": "SyntaxError",
     "evalue": "invalid syntax (<ipython-input-13-56f54d1636df>, line 1)",
     "output_type": "error",
     "traceback": [
      "\u001b[0;36m  File \u001b[0;32m\"<ipython-input-13-56f54d1636df>\"\u001b[0;36m, line \u001b[0;32m1\u001b[0m\n\u001b[0;31m    int a;\u001b[0m\n\u001b[0m        ^\u001b[0m\n\u001b[0;31mSyntaxError\u001b[0m\u001b[0;31m:\u001b[0m invalid syntax\n"
     ]
    }
   ],
   "source": [
    "int a;"
   ]
  },
  {
   "cell_type": "code",
   "execution_count": 14,
   "metadata": {},
   "outputs": [],
   "source": [
    "x=100"
   ]
  },
  {
   "cell_type": "code",
   "execution_count": 15,
   "metadata": {},
   "outputs": [
    {
     "data": {
      "text/plain": [
       "100"
      ]
     },
     "execution_count": 15,
     "metadata": {},
     "output_type": "execute_result"
    }
   ],
   "source": [
    "x"
   ]
  },
  {
   "cell_type": "code",
   "execution_count": 16,
   "metadata": {},
   "outputs": [
    {
     "data": {
      "text/plain": [
       "200"
      ]
     },
     "execution_count": 16,
     "metadata": {},
     "output_type": "execute_result"
    }
   ],
   "source": [
    "x+x"
   ]
  },
  {
   "cell_type": "code",
   "execution_count": 17,
   "metadata": {},
   "outputs": [],
   "source": [
    "x=10"
   ]
  },
  {
   "cell_type": "code",
   "execution_count": 18,
   "metadata": {},
   "outputs": [
    {
     "ename": "NameError",
     "evalue": "name 'y' is not defined",
     "output_type": "error",
     "traceback": [
      "\u001b[0;31m---------------------------------------------------------------------------\u001b[0m",
      "\u001b[0;31mNameError\u001b[0m                                 Traceback (most recent call last)",
      "\u001b[0;32m<ipython-input-18-b5981fc3c6b8>\u001b[0m in \u001b[0;36m<module>\u001b[0;34m\u001b[0m\n\u001b[0;32m----> 1\u001b[0;31m \u001b[0my\u001b[0m\u001b[0;34m-\u001b[0m\u001b[0;36m10\u001b[0m\u001b[0;34m\u001b[0m\u001b[0;34m\u001b[0m\u001b[0m\n\u001b[0m",
      "\u001b[0;31mNameError\u001b[0m: name 'y' is not defined"
     ]
    }
   ],
   "source": [
    "y-10"
   ]
  },
  {
   "cell_type": "code",
   "execution_count": 19,
   "metadata": {},
   "outputs": [],
   "source": [
    "y=10"
   ]
  },
  {
   "cell_type": "code",
   "execution_count": 20,
   "metadata": {},
   "outputs": [],
   "source": [
    "x=x+y"
   ]
  },
  {
   "cell_type": "code",
   "execution_count": 21,
   "metadata": {},
   "outputs": [],
   "source": [
    "z=x+y"
   ]
  },
  {
   "cell_type": "code",
   "execution_count": 22,
   "metadata": {},
   "outputs": [
    {
     "data": {
      "text/plain": [
       "30"
      ]
     },
     "execution_count": 22,
     "metadata": {},
     "output_type": "execute_result"
    }
   ],
   "source": [
    "z"
   ]
  },
  {
   "cell_type": "code",
   "execution_count": 23,
   "metadata": {},
   "outputs": [],
   "source": [
    "x=x+1"
   ]
  },
  {
   "cell_type": "code",
   "execution_count": 24,
   "metadata": {},
   "outputs": [],
   "source": [
    "x=10"
   ]
  },
  {
   "cell_type": "code",
   "execution_count": 25,
   "metadata": {},
   "outputs": [],
   "source": [
    "x=x+1"
   ]
  },
  {
   "cell_type": "code",
   "execution_count": 26,
   "metadata": {},
   "outputs": [
    {
     "data": {
      "text/plain": [
       "11"
      ]
     },
     "execution_count": 26,
     "metadata": {},
     "output_type": "execute_result"
    }
   ],
   "source": [
    "x"
   ]
  },
  {
   "cell_type": "code",
   "execution_count": 27,
   "metadata": {},
   "outputs": [
    {
     "ename": "SyntaxError",
     "evalue": "invalid syntax (<ipython-input-27-355333416179>, line 1)",
     "output_type": "error",
     "traceback": [
      "\u001b[0;36m  File \u001b[0;32m\"<ipython-input-27-355333416179>\"\u001b[0;36m, line \u001b[0;32m1\u001b[0m\n\u001b[0;31m    x -= 1 => x = x -1\u001b[0m\n\u001b[0m           ^\u001b[0m\n\u001b[0;31mSyntaxError\u001b[0m\u001b[0;31m:\u001b[0m invalid syntax\n"
     ]
    }
   ],
   "source": [
    "x -= 1 => x = x -1"
   ]
  },
  {
   "cell_type": "code",
   "execution_count": 28,
   "metadata": {},
   "outputs": [
    {
     "name": "stdout",
     "output_type": "stream",
     "text": [
      "Hellor Would!\n",
      "Hellor Would!\n",
      "Hellor Would!\n",
      "Hellor Would!\n",
      "Hellor Would!\n",
      "Hellor Would!\n",
      "Hellor Would!\n",
      "Hellor Would!\n",
      "Hellor Would!\n",
      "Hellor Would!\n",
      "Hellor Would!\n",
      "Hellor Would!\n",
      "Hellor Would!\n",
      "Hellor Would!\n",
      "Hellor Would!\n",
      "Hellor Would!\n",
      "Hellor Would!\n",
      "Hellor Would!\n",
      "Hellor Would!\n",
      "Hellor Would!\n",
      "Hellor Would!\n",
      "Hellor Would!\n",
      "Hellor Would!\n",
      "Hellor Would!\n",
      "Hellor Would!\n",
      "Hellor Would!\n",
      "Hellor Would!\n",
      "Hellor Would!\n",
      "Hellor Would!\n",
      "Hellor Would!\n",
      "Hellor Would!\n",
      "Hellor Would!\n",
      "Hellor Would!\n",
      "Hellor Would!\n",
      "Hellor Would!\n",
      "Hellor Would!\n",
      "Hellor Would!\n",
      "Hellor Would!\n",
      "Hellor Would!\n",
      "Hellor Would!\n",
      "Hellor Would!\n",
      "Hellor Would!\n",
      "Hellor Would!\n",
      "Hellor Would!\n",
      "Hellor Would!\n",
      "Hellor Would!\n",
      "Hellor Would!\n",
      "Hellor Would!\n",
      "Hellor Would!\n",
      "Hellor Would!\n",
      "Hellor Would!\n",
      "Hellor Would!\n",
      "Hellor Would!\n",
      "Hellor Would!\n",
      "Hellor Would!\n",
      "Hellor Would!\n",
      "Hellor Would!\n",
      "Hellor Would!\n",
      "Hellor Would!\n",
      "Hellor Would!\n",
      "Hellor Would!\n",
      "Hellor Would!\n",
      "Hellor Would!\n",
      "Hellor Would!\n",
      "Hellor Would!\n",
      "Hellor Would!\n",
      "Hellor Would!\n",
      "Hellor Would!\n",
      "Hellor Would!\n",
      "Hellor Would!\n",
      "Hellor Would!\n",
      "Hellor Would!\n",
      "Hellor Would!\n",
      "Hellor Would!\n",
      "Hellor Would!\n",
      "Hellor Would!\n",
      "Hellor Would!\n",
      "Hellor Would!\n",
      "Hellor Would!\n",
      "Hellor Would!\n",
      "Hellor Would!\n",
      "Hellor Would!\n",
      "Hellor Would!\n",
      "Hellor Would!\n",
      "Hellor Would!\n",
      "Hellor Would!\n",
      "Hellor Would!\n",
      "Hellor Would!\n",
      "Hellor Would!\n",
      "Hellor Would!\n",
      "Hellor Would!\n",
      "Hellor Would!\n",
      "Hellor Would!\n",
      "Hellor Would!\n",
      "Hellor Would!\n",
      "Hellor Would!\n",
      "Hellor Would!\n",
      "Hellor Would!\n",
      "Hellor Would!\n",
      "Hellor Would!\n"
     ]
    }
   ],
   "source": [
    "for i in range(100):\n",
    "    print('Hellor Would!')"
   ]
  },
  {
   "cell_type": "code",
   "execution_count": 29,
   "metadata": {},
   "outputs": [],
   "source": [
    "#  これは　javascriptで書いたプログラムです。"
   ]
  },
  {
   "cell_type": "code",
   "execution_count": 30,
   "metadata": {},
   "outputs": [],
   "source": [
    "#pythonでは動作しません"
   ]
  },
  {
   "cell_type": "code",
   "execution_count": 31,
   "metadata": {},
   "outputs": [
    {
     "ename": "SyntaxError",
     "evalue": "invalid syntax (<ipython-input-31-f047c715e92a>, line 1)",
     "output_type": "error",
     "traceback": [
      "\u001b[0;36m  File \u001b[0;32m\"<ipython-input-31-f047c715e92a>\"\u001b[0;36m, line \u001b[0;32m1\u001b[0m\n\u001b[0;31m    for (i = 0; i < 100; i++)  {\u001b[0m\n\u001b[0m           ^\u001b[0m\n\u001b[0;31mSyntaxError\u001b[0m\u001b[0;31m:\u001b[0m invalid syntax\n"
     ]
    }
   ],
   "source": [
    "for (i = 0; i < 100; i++)  {\n",
    "    consol.log(Hello,Would);\n",
    "}"
   ]
  },
  {
   "cell_type": "code",
   "execution_count": 32,
   "metadata": {},
   "outputs": [
    {
     "data": {
      "text/plain": [
       "'Hello Would!'"
      ]
     },
     "execution_count": 32,
     "metadata": {},
     "output_type": "execute_result"
    }
   ],
   "source": [
    "'Hello Would!'"
   ]
  },
  {
   "cell_type": "code",
   "execution_count": 33,
   "metadata": {},
   "outputs": [
    {
     "data": {
      "text/plain": [
       "4.4"
      ]
     },
     "execution_count": 33,
     "metadata": {},
     "output_type": "execute_result"
    }
   ],
   "source": [
    "2.2+2.2"
   ]
  },
  {
   "cell_type": "code",
   "execution_count": 34,
   "metadata": {},
   "outputs": [
    {
     "data": {
      "text/plain": [
       "True"
      ]
     },
     "execution_count": 34,
     "metadata": {},
     "output_type": "execute_result"
    }
   ],
   "source": [
    "True"
   ]
  },
  {
   "cell_type": "code",
   "execution_count": 35,
   "metadata": {},
   "outputs": [
    {
     "data": {
      "text/plain": [
       "False"
      ]
     },
     "execution_count": 35,
     "metadata": {},
     "output_type": "execute_result"
    }
   ],
   "source": [
    "False"
   ]
  },
  {
   "cell_type": "code",
   "execution_count": 36,
   "metadata": {},
   "outputs": [],
   "source": [
    "None"
   ]
  },
  {
   "cell_type": "code",
   "execution_count": 37,
   "metadata": {},
   "outputs": [
    {
     "data": {
      "text/plain": [
       "4"
      ]
     },
     "execution_count": 37,
     "metadata": {},
     "output_type": "execute_result"
    }
   ],
   "source": [
    "2+2"
   ]
  },
  {
   "cell_type": "code",
   "execution_count": 38,
   "metadata": {},
   "outputs": [
    {
     "data": {
      "text/plain": [
       "0"
      ]
     },
     "execution_count": 38,
     "metadata": {},
     "output_type": "execute_result"
    }
   ],
   "source": [
    "2-2"
   ]
  },
  {
   "cell_type": "code",
   "execution_count": 39,
   "metadata": {},
   "outputs": [
    {
     "data": {
      "text/plain": [
       "2.0"
      ]
     },
     "execution_count": 39,
     "metadata": {},
     "output_type": "execute_result"
    }
   ],
   "source": [
    "4 / 2"
   ]
  },
  {
   "cell_type": "code",
   "execution_count": 40,
   "metadata": {},
   "outputs": [
    {
     "data": {
      "text/plain": [
       "4"
      ]
     },
     "execution_count": 40,
     "metadata": {},
     "output_type": "execute_result"
    }
   ],
   "source": [
    "2*2"
   ]
  },
  {
   "cell_type": "code",
   "execution_count": 41,
   "metadata": {},
   "outputs": [],
   "source": [
    "b=100"
   ]
  },
  {
   "cell_type": "code",
   "execution_count": 42,
   "metadata": {},
   "outputs": [
    {
     "data": {
      "text/plain": [
       "100"
      ]
     },
     "execution_count": 42,
     "metadata": {},
     "output_type": "execute_result"
    }
   ],
   "source": [
    "b"
   ]
  },
  {
   "cell_type": "code",
   "execution_count": 43,
   "metadata": {},
   "outputs": [],
   "source": [
    "a=144"
   ]
  },
  {
   "cell_type": "code",
   "execution_count": 44,
   "metadata": {},
   "outputs": [],
   "source": [
    "x=100"
   ]
  },
  {
   "cell_type": "code",
   "execution_count": 45,
   "metadata": {},
   "outputs": [
    {
     "data": {
      "text/plain": [
       "100"
      ]
     },
     "execution_count": 45,
     "metadata": {},
     "output_type": "execute_result"
    }
   ],
   "source": [
    "x"
   ]
  },
  {
   "cell_type": "code",
   "execution_count": 46,
   "metadata": {},
   "outputs": [],
   "source": [
    "x=200"
   ]
  },
  {
   "cell_type": "code",
   "execution_count": 47,
   "metadata": {},
   "outputs": [
    {
     "data": {
      "text/plain": [
       "200"
      ]
     },
     "execution_count": 47,
     "metadata": {},
     "output_type": "execute_result"
    }
   ],
   "source": [
    "x"
   ]
  },
  {
   "cell_type": "code",
   "execution_count": 48,
   "metadata": {},
   "outputs": [
    {
     "data": {
      "text/plain": [
       "0"
      ]
     },
     "execution_count": 48,
     "metadata": {},
     "output_type": "execute_result"
    }
   ],
   "source": [
    "x=10\n",
    "y=10\n",
    "z=x+y\n",
    "z\n",
    "a=x-y\n",
    "a"
   ]
  },
  {
   "cell_type": "code",
   "execution_count": 49,
   "metadata": {},
   "outputs": [
    {
     "data": {
      "text/plain": [
       "9"
      ]
     },
     "execution_count": 49,
     "metadata": {},
     "output_type": "execute_result"
    }
   ],
   "source": [
    "x=10\n",
    "x=x-1\n",
    "x"
   ]
  },
  {
   "cell_type": "code",
   "execution_count": 50,
   "metadata": {},
   "outputs": [],
   "source": [
    "x=10\n",
    "x+=1"
   ]
  },
  {
   "cell_type": "code",
   "execution_count": 51,
   "metadata": {},
   "outputs": [
    {
     "data": {
      "text/plain": [
       "11"
      ]
     },
     "execution_count": 51,
     "metadata": {},
     "output_type": "execute_result"
    }
   ],
   "source": [
    "x=10\n",
    "x+=1\n",
    "x"
   ]
  },
  {
   "cell_type": "code",
   "execution_count": 52,
   "metadata": {},
   "outputs": [
    {
     "data": {
      "text/plain": [
       "9"
      ]
     },
     "execution_count": 52,
     "metadata": {},
     "output_type": "execute_result"
    }
   ],
   "source": [
    "x=10\n",
    "x-=1\n",
    "x"
   ]
  },
  {
   "cell_type": "code",
   "execution_count": 53,
   "metadata": {},
   "outputs": [
    {
     "data": {
      "text/plain": [
       "9"
      ]
     },
     "execution_count": 53,
     "metadata": {},
     "output_type": "execute_result"
    }
   ],
   "source": [
    "x"
   ]
  },
  {
   "cell_type": "code",
   "execution_count": 54,
   "metadata": {},
   "outputs": [],
   "source": [
    "hi ='Hello Would!'"
   ]
  },
  {
   "cell_type": "code",
   "execution_count": 55,
   "metadata": {},
   "outputs": [
    {
     "data": {
      "text/plain": [
       "'Hello Would!'"
      ]
     },
     "execution_count": 55,
     "metadata": {},
     "output_type": "execute_result"
    }
   ],
   "source": [
    "hi"
   ]
  },
  {
   "cell_type": "code",
   "execution_count": 56,
   "metadata": {},
   "outputs": [],
   "source": [
    "my_float = 2.2"
   ]
  },
  {
   "cell_type": "code",
   "execution_count": 57,
   "metadata": {},
   "outputs": [
    {
     "data": {
      "text/plain": [
       "2.2"
      ]
     },
     "execution_count": 57,
     "metadata": {},
     "output_type": "execute_result"
    }
   ],
   "source": [
    "my_float"
   ]
  },
  {
   "cell_type": "code",
   "execution_count": 58,
   "metadata": {},
   "outputs": [],
   "source": [
    "my_boolean=True"
   ]
  },
  {
   "cell_type": "code",
   "execution_count": 1,
   "metadata": {},
   "outputs": [
    {
     "ename": "SyntaxError",
     "evalue": "EOL while scanning string literal (<ipython-input-1-d5348a30e445>, line 1)",
     "output_type": "error",
     "traceback": [
      "\u001b[0;36m  File \u001b[0;32m\"<ipython-input-1-d5348a30e445>\"\u001b[0;36m, line \u001b[0;32m1\u001b[0m\n\u001b[0;31m    my_string = \"Hello ,Would.\u001b[0m\n\u001b[0m                              ^\u001b[0m\n\u001b[0;31mSyntaxError\u001b[0m\u001b[0;31m:\u001b[0m EOL while scanning string literal\n"
     ]
    }
   ],
   "source": [
    "my_string = \"Hello ,Would."
   ]
  },
  {
   "cell_type": "code",
   "execution_count": 2,
   "metadata": {},
   "outputs": [
    {
     "ename": "ZeroDivisionError",
     "evalue": "division by zero",
     "output_type": "error",
     "traceback": [
      "\u001b[0;31m---------------------------------------------------------\u001b[0m",
      "\u001b[0;31mZeroDivisionError\u001b[0m       Traceback (most recent call last)",
      "\u001b[0;32m<ipython-input-2-cd759d3fcf39>\u001b[0m in \u001b[0;36m<module>\u001b[0;34m\u001b[0m\n\u001b[0;32m----> 1\u001b[0;31m \u001b[0;36m10\u001b[0m \u001b[0;34m/\u001b[0m \u001b[0;36m0\u001b[0m\u001b[0;34m\u001b[0m\u001b[0;34m\u001b[0m\u001b[0m\n\u001b[0m",
      "\u001b[0;31mZeroDivisionError\u001b[0m: division by zero"
     ]
    }
   ],
   "source": [
    "10 / 0"
   ]
  },
  {
   "cell_type": "code",
   "execution_count": 3,
   "metadata": {},
   "outputs": [],
   "source": [
    "y = 2"
   ]
  },
  {
   "cell_type": "code",
   "execution_count": 4,
   "metadata": {},
   "outputs": [],
   "source": [
    "        x=1"
   ]
  },
  {
   "cell_type": "code",
   "execution_count": 5,
   "metadata": {},
   "outputs": [
    {
     "ename": "IndentationError",
     "evalue": "unexpected indent (<ipython-input-5-c43b6c194a88>, line 2)",
     "output_type": "error",
     "traceback": [
      "\u001b[0;36m  File \u001b[0;32m\"<ipython-input-5-c43b6c194a88>\"\u001b[0;36m, line \u001b[0;32m2\u001b[0m\n\u001b[0;31m    x=1\u001b[0m\n\u001b[0m    ^\u001b[0m\n\u001b[0;31mIndentationError\u001b[0m\u001b[0;31m:\u001b[0m unexpected indent\n"
     ]
    }
   ],
   "source": [
    "y = 2\n",
    "       x=1"
   ]
  },
  {
   "cell_type": "code",
   "execution_count": 6,
   "metadata": {},
   "outputs": [
    {
     "data": {
      "text/plain": [
       "2"
      ]
     },
     "execution_count": 6,
     "metadata": {},
     "output_type": "execute_result"
    }
   ],
   "source": [
    "13 // 5"
   ]
  },
  {
   "cell_type": "code",
   "execution_count": 7,
   "metadata": {},
   "outputs": [
    {
     "data": {
      "text/plain": [
       "3"
      ]
     },
     "execution_count": 7,
     "metadata": {},
     "output_type": "execute_result"
    }
   ],
   "source": [
    "13 % 5"
   ]
  },
  {
   "cell_type": "code",
   "execution_count": 8,
   "metadata": {},
   "outputs": [
    {
     "data": {
      "text/plain": [
       "0"
      ]
     },
     "execution_count": 8,
     "metadata": {},
     "output_type": "execute_result"
    }
   ],
   "source": [
    "12 % 2"
   ]
  },
  {
   "cell_type": "code",
   "execution_count": 9,
   "metadata": {},
   "outputs": [
    {
     "data": {
      "text/plain": [
       "1"
      ]
     },
     "execution_count": 9,
     "metadata": {},
     "output_type": "execute_result"
    }
   ],
   "source": [
    "#奇数\n",
    "11 % 2"
   ]
  },
  {
   "cell_type": "code",
   "execution_count": 10,
   "metadata": {},
   "outputs": [
    {
     "data": {
      "text/plain": [
       "4"
      ]
     },
     "execution_count": 10,
     "metadata": {},
     "output_type": "execute_result"
    }
   ],
   "source": [
    "14 // 3"
   ]
  },
  {
   "cell_type": "code",
   "execution_count": 11,
   "metadata": {},
   "outputs": [
    {
     "data": {
      "text/plain": [
       "2"
      ]
     },
     "execution_count": 11,
     "metadata": {},
     "output_type": "execute_result"
    }
   ],
   "source": [
    "14 % 3"
   ]
  },
  {
   "cell_type": "code",
   "execution_count": 12,
   "metadata": {},
   "outputs": [
    {
     "data": {
      "text/plain": [
       "8"
      ]
     },
     "execution_count": 12,
     "metadata": {},
     "output_type": "execute_result"
    }
   ],
   "source": [
    "2 ** 3"
   ]
  },
  {
   "cell_type": "code",
   "execution_count": 13,
   "metadata": {},
   "outputs": [
    {
     "data": {
      "text/plain": [
       "5.0"
      ]
     },
     "execution_count": 13,
     "metadata": {},
     "output_type": "execute_result"
    }
   ],
   "source": [
    "10 / 2"
   ]
  },
  {
   "cell_type": "code",
   "execution_count": 14,
   "metadata": {},
   "outputs": [
    {
     "data": {
      "text/plain": [
       "0"
      ]
     },
     "execution_count": 14,
     "metadata": {},
     "output_type": "execute_result"
    }
   ],
   "source": [
    "10 % 2"
   ]
  },
  {
   "cell_type": "code",
   "execution_count": 15,
   "metadata": {},
   "outputs": [
    {
     "data": {
      "text/plain": [
       "6"
      ]
     },
     "execution_count": 15,
     "metadata": {},
     "output_type": "execute_result"
    }
   ],
   "source": [
    "2 + 2 * 2"
   ]
  },
  {
   "cell_type": "code",
   "execution_count": 16,
   "metadata": {},
   "outputs": [
    {
     "data": {
      "text/plain": [
       "8"
      ]
     },
     "execution_count": 16,
     "metadata": {},
     "output_type": "execute_result"
    }
   ],
   "source": [
    "(2 + 2) * 2"
   ]
  },
  {
   "cell_type": "code",
   "execution_count": 17,
   "metadata": {},
   "outputs": [
    {
     "data": {
      "text/plain": [
       "True"
      ]
     },
     "execution_count": 17,
     "metadata": {},
     "output_type": "execute_result"
    }
   ],
   "source": [
    "100 > 10"
   ]
  },
  {
   "cell_type": "code",
   "execution_count": 18,
   "metadata": {},
   "outputs": [
    {
     "data": {
      "text/plain": [
       "True"
      ]
     },
     "execution_count": 18,
     "metadata": {},
     "output_type": "execute_result"
    }
   ],
   "source": [
    "100 > 10"
   ]
  },
  {
   "cell_type": "code",
   "execution_count": 19,
   "metadata": {},
   "outputs": [
    {
     "data": {
      "text/plain": [
       "False"
      ]
     },
     "execution_count": 19,
     "metadata": {},
     "output_type": "execute_result"
    }
   ],
   "source": [
    "100 < 10"
   ]
  },
  {
   "cell_type": "code",
   "execution_count": 20,
   "metadata": {},
   "outputs": [
    {
     "data": {
      "text/plain": [
       "True"
      ]
     },
     "execution_count": 20,
     "metadata": {},
     "output_type": "execute_result"
    }
   ],
   "source": [
    "2 >= 2"
   ]
  },
  {
   "cell_type": "code",
   "execution_count": 21,
   "metadata": {},
   "outputs": [
    {
     "data": {
      "text/plain": [
       "True"
      ]
     },
     "execution_count": 21,
     "metadata": {},
     "output_type": "execute_result"
    }
   ],
   "source": [
    "2 <= 2"
   ]
  },
  {
   "cell_type": "code",
   "execution_count": 22,
   "metadata": {},
   "outputs": [
    {
     "data": {
      "text/plain": [
       "True"
      ]
     },
     "execution_count": 22,
     "metadata": {},
     "output_type": "execute_result"
    }
   ],
   "source": [
    "2 == 2"
   ]
  },
  {
   "cell_type": "code",
   "execution_count": null,
   "metadata": {},
   "outputs": [],
   "source": []
  },
  {
   "cell_type": "code",
   "execution_count": 23,
   "metadata": {},
   "outputs": [
    {
     "data": {
      "text/plain": [
       "False"
      ]
     },
     "execution_count": 23,
     "metadata": {},
     "output_type": "execute_result"
    }
   ],
   "source": [
    "1 == 2"
   ]
  },
  {
   "cell_type": "code",
   "execution_count": 24,
   "metadata": {},
   "outputs": [
    {
     "data": {
      "text/plain": [
       "True"
      ]
     },
     "execution_count": 24,
     "metadata": {},
     "output_type": "execute_result"
    }
   ],
   "source": [
    "1 != 2"
   ]
  },
  {
   "cell_type": "code",
   "execution_count": null,
   "metadata": {},
   "outputs": [],
   "source": []
  }
 ],
 "metadata": {
  "kernelspec": {
   "display_name": "Python 3",
   "language": "python",
   "name": "python3"
  },
  "language_info": {
   "codemirror_mode": {
    "name": "ipython",
    "version": 3
   },
   "file_extension": ".py",
   "mimetype": "text/x-python",
   "name": "python",
   "nbconvert_exporter": "python",
   "pygments_lexer": "ipython3",
   "version": "3.8.5"
  }
 },
 "nbformat": 4,
 "nbformat_minor": 4
}
